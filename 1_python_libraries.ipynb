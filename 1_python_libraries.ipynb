{
  "nbformat": 4,
  "nbformat_minor": 0,
  "metadata": {
    "colab": {
      "provenance": [],
      "authorship_tag": "ABX9TyOhgNB8d/e+12r3Pxu90fH4"
    },
    "kernelspec": {
      "name": "python3",
      "display_name": "Python 3"
    },
    "language_info": {
      "name": "python"
    }
  },
  "cells": [
    {
      "cell_type": "markdown",
      "source": [
        "**I. 　データ管理：PandasとNumPy**\n",
        "\n",
        "　PandasとNumPyは本講座のみならずデータサイエンスでは頻繁に用いるデータ解析用ライブラリである。用途はほぼ同じであるが、要するに利用者にわかりやすいのがPandasで高度で高速な演算を行うならばNumPyという使い方をすることが多い。特にAPIを用いて世界の様々な株価データや金利データを取得する場合には、pandasのデータフレームにデータを格納することで、解析の利便性が高まる。例えばMS Excelに保存された2つのデータから新たなデータを演算により3つ目の変数を算出するように、pandasデータフレームに保存された2つのデータから新たなデータを算出して、同じデータフレーム内に3つ目の変数を作成することができる。\n",
        "\n",
        "　他方、NumPyもファイナンス理論のように数万回を超えるシミュレーションを反復させる場合に重宝される。その理由は、もともと数値計算速度が速いとは言えない言語であるPythonに高速度な演算をもたらしたのがNumPyであるためである。この2つのデータ解析ライブラリは、もともとPandasがNumPyから作製されていることもあり、データの相互変換が容易である。それゆえ、まずマーケット・データをPandasデータフレームに保存した上で、それぞれの長所を生かしてプログラミングの目的を達成することが望ましい。\n",
        "\n",
        "１．　Pandas\n",
        "\n",
        "　Pandasは数値データのみならず多様なデータを扱うことができる。特にデータの前処理で重宝されるのは、欠損値の削除、二つのデータフレームの統合、CSVデータやエクセル・データの入出力などに用いると便利である。pandas_datareaderによりデータを取得した後のdescribe()等の記述統計による可視化やpct_changeなどの前期比の算出にも重宝される。"
      ],
      "metadata": {
        "id": "bwFnF9RFOH5k"
      }
    },
    {
      "cell_type": "code",
      "source": [
        "import pandas as pd #ライブラリの読み込み"
      ],
      "metadata": {
        "id": "00Q1rA1MOxgl"
      },
      "execution_count": 1,
      "outputs": []
    },
    {
      "cell_type": "markdown",
      "source": [
        "2.　NumPy\n",
        "\n",
        "　NumPyは基本的にはpandas同様、数値解析のためのライブラリである。Pandasとの違いは、（１）計算速度が速い、（２）特に行列計算では無類の速度を記録する、点である。ファイナンス理論の実装において、Pandasが最も利便性が高いにも関わらずNumPyに極所々で依存せざるを得ない状況が生じる理由は（１）に因る。モンテカルロ法による株価の予測や債券イールドカーブの数値計算など、多くの場面でNumPyの数値計算の速度に依存する状況が生じる。NumPyを用いる記述統計や前期比の算出も容易である。これらのPandasを用いて作製されるデータフレームとNumPyのndarrayは相互変換しやすいため、数値解析の目的に応じて、どちらかのライブラリを使用する方がよい。"
      ],
      "metadata": {
        "id": "aGCwgmAbPD8C"
      }
    },
    {
      "cell_type": "code",
      "source": [
        "import numpy as np #ライブラリの読み込み"
      ],
      "metadata": {
        "id": "axYjo5OlPNBI"
      },
      "execution_count": 2,
      "outputs": []
    },
    {
      "cell_type": "markdown",
      "source": [
        "**II.　図表による可視化：matplotlib**\n",
        "\n",
        "　金融資本市場のデータを取得した後、それらのデータを可視化するには、記述統計を確認すると同時に、図示することも直観的な理解を深める上で重要である。Pandas_datareaderで取得されたデータは、\n",
        "\n",
        "　import matplotlib.pyplot as plt\n",
        "\n",
        "によりライブラリを読み込めば、\n",
        "\n",
        "\n",
        "plt.show()　折れ線グラフ\n",
        "\n",
        "plt.bar()　棒グラフ\n",
        "\n",
        "plt.scatter()　散布図\n",
        "\n",
        "など自由に図表作成ができる。尚、折れ線グラフの太さ、マーカー、色、凡例、横軸・縦軸の名称などを指定することができる。"
      ],
      "metadata": {
        "id": "fQMw5H3yPX2x"
      }
    },
    {
      "cell_type": "code",
      "source": [
        "import matplotlib.pyplot as plt #グラフ作成用ライブラリのインポート"
      ],
      "metadata": {
        "id": "WIPKi-G2PqY7"
      },
      "execution_count": 3,
      "outputs": []
    },
    {
      "cell_type": "markdown",
      "source": [
        "**III.　データの取得：pandas_datareader**\n",
        "\n",
        "　以下では金融情報通信社や国際機関のデータベースからAPIにより、株価日次データ、金利データ、マクロ経済データを取得する。これらのデータ取得は主としてpandas_datareaderを用いる。google colabを用いて使用する場合には、インストール作業は不要である。PCにインストールする場合は、\n",
        "\n",
        " 　　pip install pandas-datareader\n",
        "\n",
        " の作業が必要となる。\n",
        "  pandas_datareaderを使用する際の基本的な手順は、下記のライブラリのインポートと日付およびティッカー・コードの指定により取得することができる。"
      ],
      "metadata": {
        "id": "SHCIJ8SJP5Fr"
      }
    },
    {
      "cell_type": "code",
      "source": [
        "import pandas_datareader as data"
      ],
      "metadata": {
        "id": "SESogDFzPfwH"
      },
      "execution_count": 4,
      "outputs": []
    },
    {
      "cell_type": "markdown",
      "source": [
        "　pandas_datareaderのライブラリをインポートすれば、取得したいデータと標本期間を指定する。基本的には\n",
        "\n",
        " 　データフレーム名＝略称.DataReader(ティッカーコード名, 'データソース名',標本期間の開始日, 標本期間の終了日）を記述する。"
      ],
      "metadata": {
        "id": "_QMlhexdP-kD"
      }
    },
    {
      "cell_type": "code",
      "source": [
        "NKX=data.DataReader('^NKX','stooq',start=\"1990-01-01\",end=\"2025-03-30\")\n",
        "NKX.head()"
      ],
      "metadata": {
        "id": "fscxC5ayQLbN"
      },
      "execution_count": null,
      "outputs": []
    },
    {
      "cell_type": "markdown",
      "source": [
        "　上記の例は、日次データが新しい順に並んでいる。これを古い順から並べ替えるには、日付データ'Date'を降べきの順にするascending=Trueことを指示すればよい。"
      ],
      "metadata": {
        "id": "PwIcvt_BQgwY"
      }
    },
    {
      "cell_type": "code",
      "source": [
        "NKX=data.DataReader('^NKX','stooq',start=\"1990-01-01\",end=\"2025-03-30\").sort_values(by='Date',ascending=True)\n",
        "NKX.head()"
      ],
      "metadata": {
        "id": "7GPpHPqSQ_9l"
      },
      "execution_count": null,
      "outputs": []
    },
    {
      "cell_type": "markdown",
      "source": [
        "　また、ファイナンスや経済学の世界では、データを伸び率（変化率、リターン）に変換してから、用いることも多い。株価やマクロ経済データを伸び率に変換するには、pandas_datareaderでデータを読み込んだ後、コードの末尾に.pct_change()を付ければよい。"
      ],
      "metadata": {
        "id": "BOMwh-mCRTqz"
      }
    },
    {
      "cell_type": "code",
      "source": [
        "NKX=data.DataReader('^NDQ','stooq',start=\"1990-01-01\",end=\"2025-3-30\").sort_values(by='Date',ascending=True).pct_change()\n",
        "NKX.head()"
      ],
      "metadata": {
        "id": "uuACqxfFRu6m"
      },
      "execution_count": null,
      "outputs": []
    },
    {
      "cell_type": "markdown",
      "source": [
        "　ただし、データを伸び率に変換すると、必ず先頭のデータは「欠損値」となる。欠損値を削除するためには、末尾に.dropna()をつける。"
      ],
      "metadata": {
        "id": "quVq5mzOR5_q"
      }
    },
    {
      "cell_type": "code",
      "source": [
        "NKX=data.DataReader('^NDQ','stooq',start=\"1990-01-01\",end=\"2025-3-30\").sort_values(by='Date',ascending=True).pct_change().dropna()\n",
        "NKX.head()"
      ],
      "metadata": {
        "id": "fXNbQtVrR1yL"
      },
      "execution_count": null,
      "outputs": []
    },
    {
      "cell_type": "markdown",
      "source": [
        "　最後に、ファイナンス分析では、日次データを年率に換算して、リターンとリスク等を算出することが作法とされている。日次データを年率換算するには365日のうちの土日祝日を除く営業日数が概ね250営業日であるため、*250を乗じる。"
      ],
      "metadata": {
        "id": "ia7mHRaDTQak"
      }
    },
    {
      "cell_type": "code",
      "source": [
        "NKX=data.DataReader('^NDQ','stooq',start=\"1990-01-01\",end=\"2025-3-30\").sort_values(by='Date',ascending=True).pct_change().dropna()*250\n",
        "NKX.head()"
      ],
      "metadata": {
        "id": "_UxTHfjZR2gX"
      },
      "execution_count": null,
      "outputs": []
    },
    {
      "cell_type": "markdown",
      "source": [
        "　尚、複数のデータを取得する場合は標本期間の日付を予め指定した方法と同様に複数のティッカーコードを指定することができる。"
      ],
      "metadata": {
        "id": "bANAL4gIRgFj"
      }
    },
    {
      "cell_type": "markdown",
      "source": [
        "**IV.　統計解析の手段：scikit-learnとstatsmodels**\n",
        "\n",
        "　データサイエンスにおいて頻繁に用いられる統計分析用ライブラリがsklearnとstatmodelsである。特にCAPM理論では、これらのライブラリを用いてソースコードを記述しておくことにより、世界のあらゆる企業のベータ値の算出を自動化させることができる。\n",
        "\n",
        "1．scikit-learn\n",
        "\n",
        "　単回帰分析、多重回帰分析を行う際、用いられるライブラリのひとつがscikit-learnである。ただし、単にCAPM理論の実装においてβ値を求める等、回帰分析の係数値を求めることが分析の目的であれば、statmodelsの方が利便性が高い。scikit-learnが重宝されるのは、機械学習による分析を併せて行う場合である。それゆえ、分析・研究の目的がヒストリカル・データの分析・研究ではなく、予測であれば、scikit-learnは重要な役割を果たすことになる。\n",
        "\n",
        "2.　statmodels\n",
        "\n",
        "　このライブラリは回帰分析全般において利便性が高いだけでなく、単位根検定や共和分検定等の時系列データの解析にも有用である。MS Excelに保存した2つのデータの回帰分析がプルダウンメニューからのコマンド選択により容易であることと同様に、statmodelsによる回帰分析もPandas_DataReaderで保存された２つのデータを用いて容易に実行可能である。他方、statmodelsにより単回帰分析を自動化させてしまえば、日々、株価データが更新されることごとに新たなβ値を算出させることも可能である。\n",
        "\n",
        "\n",
        "\n",
        "\n"
      ],
      "metadata": {
        "id": "eAdZV7Tiu8n3"
      }
    },
    {
      "cell_type": "markdown",
      "source": [
        "**V.　世界の上場企業株価・売買高の取得**\n",
        "\n",
        " 　世界の上場企業の株価や市場インデックスを取得する手段として、Pythonではpandas_datareaderを用いることが多い。そしてどのデータ元から入手するかについては、stooq、yahooファイナンス等が日次データの情報ソースとして用いられることが多い。以下では、それぞれについて説明する。"
      ],
      "metadata": {
        "id": "xrgM1jTGMy2A"
      }
    },
    {
      "cell_type": "markdown",
      "source": [
        "１.　Stooqを用いる株価取得"
      ],
      "metadata": {
        "id": "XAnP8d_xaHyy"
      }
    },
    {
      "cell_type": "code",
      "source": [
        "import pandas_datareader as data #データ取得用ライブラリのインポート\n",
        "import pandas as pd #ライブラリの読み込み\n",
        "import matplotlib.pyplot as plt #グラフ作成用ライブラリのインポート"
      ],
      "metadata": {
        "id": "gCwdQTqyYYk8"
      },
      "execution_count": 12,
      "outputs": []
    },
    {
      "cell_type": "markdown",
      "source": [
        "1.1　日経平均株価の取得\n",
        "\n",
        "　Stooqから時系列データを入手する場合、sort_valuesにより日付(Date)の古い順から並べ直す指示(ascending=True)を与える必要がある。"
      ],
      "metadata": {
        "id": "kRcO7u92ajmY"
      }
    },
    {
      "cell_type": "code",
      "source": [
        "NKX=data.DataReader('^NKX','stooq',start=\"1990-01-01\",end=\"2025-03-30\").sort_values(by='Date',ascending=True)\n",
        "NKX.head()"
      ],
      "metadata": {
        "id": "SALEGP-haEZo",
        "collapsed": true
      },
      "execution_count": null,
      "outputs": []
    },
    {
      "cell_type": "markdown",
      "source": [
        "\n",
        "1.2　終値のみでデータフレームを作成\n",
        "\n",
        "　pandas_datareaderでstooqからデータを入手すると、データフレーム内には、始値・最高値・最安値・終値・売買高の5種類のデータが格納される。分析の際に、データフレーム名'NKX'を指定しても、それが5つのうちのどのデータを指すのかがわからないので、例えば終値のみでデータフレームを作成する場合には.Close()を末尾に記述し、データフレーム名を変更する、または同じデータフレーム名を上書きする。\n",
        " 新しいデータをpandasデータフレームに格納するためには、\n",
        "\n",
        "  　　<新変数名> = pd.DataFrame(旧データフレーム名.変数名)\n",
        "\n",
        "と記述する。\n"
      ],
      "metadata": {
        "id": "TUmrlvveawaV"
      }
    },
    {
      "cell_type": "code",
      "source": [
        "nikkei=pd.DataFrame(NKX.Close)\n",
        "nikkei.head()"
      ],
      "metadata": {
        "id": "WADA7qJ7s9Qo"
      },
      "execution_count": null,
      "outputs": []
    },
    {
      "cell_type": "markdown",
      "source": [
        "　変数名の変更は、次のように指示する。\n",
        "\n",
        "データフレーム名.rename(columns={'旧変数名': '新変数名'})\n",
        "\n",
        ""
      ],
      "metadata": {
        "id": "q-NlROmrXckY"
      }
    },
    {
      "cell_type": "code",
      "source": [
        "nikkei=nikkei.rename(columns={'Close': 'Nikkei225'})\n",
        "nikkei.head()"
      ],
      "metadata": {
        "id": "qz-G5HmtXHRu"
      },
      "execution_count": null,
      "outputs": []
    },
    {
      "cell_type": "markdown",
      "source": [
        "　ちなみに、pandas_datareaderを用いて得られた株価をndarray（numpy配列）に変換するには、下記のようにデータフレーム.変数名に.valuesをつければよい。"
      ],
      "metadata": {
        "id": "VR7ZVEx4YeGS"
      }
    },
    {
      "cell_type": "code",
      "source": [
        "import numpy as np\n",
        "NKX=data.DataReader('^NKX','stooq',start=\"2023-01-01\",end=\"2025-04-10\").sort_values(by='Date',ascending=True)\n",
        "Y=NKX.Close.values\n",
        "Y"
      ],
      "metadata": {
        "id": "kNkgetSCx1Ji",
        "collapsed": true
      },
      "execution_count": null,
      "outputs": []
    },
    {
      "cell_type": "markdown",
      "source": [
        "1.3　データの可視化\n",
        "\n",
        "　記述統計を算出し、すでにインポートしているmatplotlibを用いてデータを可視化する。折れ線グラフの太さ、色、縦軸、横軸の上限・下限や目盛および名称、凡例等は、plt.plot()で定義。"
      ],
      "metadata": {
        "id": "aUxyojJLcVc4"
      }
    },
    {
      "cell_type": "code",
      "source": [
        "NKX=data.DataReader('^NKX','stooq',start=\"1990-01-01\",end=\"2025-03-30\").sort_values(by='Date',ascending=True)\n",
        "plt.plot(NKX.Close) #日経平均株価のグラフ作成"
      ],
      "metadata": {
        "id": "wvcOGzP8cdLl",
        "collapsed": true
      },
      "execution_count": null,
      "outputs": []
    },
    {
      "cell_type": "markdown",
      "source": [
        "1.5　複数データの取得\n",
        "\n",
        "　市場インデックスと個別銘柄など、複数の株価を同時に取得する場合には、予め取得するティッカー・コードを指定した上でpandas_datareaderを実行する。また標本期間はstart = datetime.date(2017,X,Y)、end = datetime.date(2017,Z,W)のように予め与えておいてもよい。"
      ],
      "metadata": {
        "id": "ZPLKdBIMhGzZ"
      }
    },
    {
      "cell_type": "code",
      "source": [
        "import pandas_datareader as data\n",
        "tickers=['TSLA.US','^NDQ'] #証券コードの指定\n",
        "USA=data.DataReader(tickers,'stooq',start=\"2023-01-01\",end=\"2024-11-30\").sort_values(by='Date',ascending=True)\n",
        "df = USA['Close'] #日次の終値のみのデータフレーム\n",
        "df.head()#データフレーム概要の可視化"
      ],
      "metadata": {
        "id": "5HGG7FHyhcMV",
        "collapsed": true
      },
      "execution_count": null,
      "outputs": []
    },
    {
      "cell_type": "markdown",
      "source": [
        "2．Yahooファイナンスを用いる株価取得\n",
        "\n",
        "　Google Colaboratoryを用いて、Yahooファイナンスから株価データを取得する場合には、まずパッケージをインストールする必要がある。このインストールはひとつのコードセルで行わなければならない。"
      ],
      "metadata": {
        "id": "Lus1ja4BgxSs"
      }
    },
    {
      "cell_type": "code",
      "source": [
        "pip install yfinance"
      ],
      "metadata": {
        "id": "LY13cgSqg1Uq"
      },
      "execution_count": null,
      "outputs": []
    },
    {
      "cell_type": "markdown",
      "source": [
        "2.1　ライブラリのインポート\n",
        "\n",
        "　yfinanceのパッケージをインストールすれば、続いてyfinanceのライブラリをインポートする。その後の手続きはStooqの場合と同様である。"
      ],
      "metadata": {
        "id": "8oBWtPM5kRMh"
      }
    },
    {
      "cell_type": "code",
      "source": [
        "import yfinance as yf"
      ],
      "metadata": {
        "id": "bYN2Y-cnkfKO"
      },
      "execution_count": 11,
      "outputs": []
    },
    {
      "cell_type": "markdown",
      "source": [
        "2.2　データの取得\n",
        "\n",
        "  米国企業の株価を分析する場合yfinanceを用いた方が、時価総額が小さい企業も収録されているメリットがある。"
      ],
      "metadata": {
        "id": "op9dX62slBIJ"
      }
    },
    {
      "cell_type": "code",
      "source": [
        "df = yf.download('TSLA,GM', start='2012-1-1', end='2024-11-30')\n",
        "df = df['Close']\n",
        "df.head()"
      ],
      "metadata": {
        "id": "mZ77833nlFXG",
        "collapsed": true
      },
      "execution_count": null,
      "outputs": []
    },
    {
      "cell_type": "markdown",
      "source": [
        "**VI．外国為替レートの取得**\n",
        "\n",
        "　外国為替レートの取得は、上記で示したstooqやyahooファイナンスでも可能である。また、分析の目的が市場分析ではなく、マクロ経済分析であれば、世界銀行や国際通貨基金の月次・年次データを取得することもできる。本例では米セントルイス連銀の為替レートデータの取得を実装例として示す。"
      ],
      "metadata": {
        "id": "hgTFeVen0yz5"
      }
    },
    {
      "cell_type": "markdown",
      "source": [
        "1.　米セントルイス連邦準備銀行からのデータ取得\n",
        "\n",
        "　セントルイス連銀のデータがAPIにより利用者の好まれる理由は、同連銀がAPIを通じた利用を促している点にある。それゆえ、データを公開する同連銀のサイトの設計が今後も大きく変わることはないという安心感が利用者にある。加えて、同連銀から公開される為替レートのデータは、日次データが35系列、月次データが39系列、年次データが26系列、実効為替レートを含むその他の為替レートインデックスが79種類と豊富なデータが公開、提供されている（2024年12月末時点）。\n",
        "\n"
      ],
      "metadata": {
        "id": "-UsmY5xK1RwW"
      }
    },
    {
      "cell_type": "markdown",
      "source": [
        "2.　米セントルイス連銀からのデータ取得に必要なライブラリ\n",
        "\n",
        "　株価データの取得同様、為替レートのデータ取得においても、pandas_datareaderと図表作成のためのmatplotlibをインポートする。"
      ],
      "metadata": {
        "id": "rEC4aCfw38aV"
      }
    },
    {
      "cell_type": "code",
      "source": [
        "import pandas_datareader as data\n",
        "import matplotlib.pyplot as plt"
      ],
      "metadata": {
        "id": "Zuy8fpMP1fbL"
      },
      "execution_count": 1,
      "outputs": []
    },
    {
      "cell_type": "markdown",
      "source": [
        "3.　為替レートの取得\n",
        "\n",
        "　本例では変動相場制以降後から現在までの円ドルレートの取得をプログラムする。尚、円ドルレート以外では、ユーロ（USドル対ユーロレート）がDEXUSEU、英ポンド（USドル対英ポンドレート）、人民元(対USドルレート）がDEXCHUS、韓国ウォン（対USドルレート）がDEXKOUS、インドルピー（対USドルレート）がDEXINUSである。その他の30系列データのティッカー・コードは\n",
        "https://fred.stlouisfed.org/categories/94\n",
        "において確認することができる。尚、欧州通貨の場合は、1USドル当たりの通貨価値ではなく、1欧州通貨単位に対するUSドルの通貨価値としてのデータであることに注意が必要である。"
      ],
      "metadata": {
        "id": "1s4DHLFR4R9_"
      }
    },
    {
      "cell_type": "code",
      "source": [
        "USDJPY=data.DataReader('DEXJPUS','fred',start=\"1973-01-01\",end=\"2024-11-30\")\n",
        "USDJPY"
      ],
      "metadata": {
        "id": "FvYu68ZL2H1k",
        "collapsed": true
      },
      "execution_count": null,
      "outputs": []
    },
    {
      "cell_type": "markdown",
      "source": [
        "4.　可視化\n",
        "\n",
        "　取得したデータの記述統計とグラフ化は下記のSource Codeにより可能となる。株価データと異なる点は、米セントルイス連銀の為替レートデータの場合、始値、終値、売買高のデータがまとめて取得されないため、「終値」のみを定義するデータフレームを作成する必要がない点である。"
      ],
      "metadata": {
        "id": "x1zTmz0s58R7"
      }
    },
    {
      "cell_type": "code",
      "source": [
        "plt.plot(USDJPY) #円ドルレートのグラフ作成"
      ],
      "metadata": {
        "id": "3_vpm1fA1Qhe",
        "colab": {
          "base_uri": "https://localhost:8080/",
          "height": 448
        },
        "outputId": "22f91935-62d6-49c9-9729-2d50f5d1cddb",
        "collapsed": true
      },
      "execution_count": 3,
      "outputs": [
        {
          "output_type": "execute_result",
          "data": {
            "text/plain": [
              "[<matplotlib.lines.Line2D at 0x77fda0435450>]"
            ]
          },
          "metadata": {},
          "execution_count": 3
        },
        {
          "output_type": "display_data",
          "data": {
            "text/plain": [
              "<Figure size 640x480 with 1 Axes>"
            ],
            "image/png": "[encoded data removed]"
          },
          "metadata": {}
        }
      ]
    },
    {
      "cell_type": "markdown",
      "source": [
        "5.　為替変動ボラティリティの算出\n",
        "\n",
        "　為替レートの場合、株価よりもボラティリティの算出が論点になる場合が多い。その理由は、オプション取引等のデリバティブ取引により多くの輸出企業が、為替リスクヘッジを試みるためである。勿論、株式市場においてもデリバティブ取引は活発であるが、日本産業の場合、製造業の牽引役がこれまで輸出企業であったこともあり、為替変動ボラティリティが着目されることが多い。"
      ],
      "metadata": {
        "id": "KtLfdsYG8maD"
      }
    },
    {
      "cell_type": "code",
      "source": [
        "d_JPY=USDJPY.pct_change()\n",
        "d_JPY2=d_JPY.dropna(axis=0, how=\"any\")\n",
        "plt.plot(d_JPY2) #円ドルレートボラティリティのグラフ作成\n",
        "d_JPY2.describe() #記述統計の算出"
      ],
      "metadata": {
        "id": "YdJwA2Ix8J0D"
      },
      "execution_count": null,
      "outputs": []
    },
    {
      "cell_type": "markdown",
      "source": [
        "**VII.　マクロ経済データの取得**\n",
        "\n",
        "　金融資本市場を分析する際、市場インデックスや金利水準以外に重要となるのが各国・地域のマクロ経済動向である。マクロ経済データは、国内ファインダメンタルズを年次・四半期・月次のいずれの頻度で確認するのかにより、利用するデータソースが異なる。また、Intrnational Financial StatisticsやDirection of Trade Statisticsを長年刊行する国際通貨基金のデータであれば国際金融データおよび二カ国間貿易データが詳しい。世界銀行のデータは各国・地域のマクロ経済・金融・環境・貧困等、各国統計以外に独自のインデック等も含む。本例では、世界銀行のデータの取得事例を紹介する。"
      ],
      "metadata": {
        "id": "Xz3ABdAATQqw"
      }
    },
    {
      "cell_type": "markdown",
      "source": [
        "１．　wbgapi\n",
        "\n",
        "　世界銀行のマクロ経済データを取得する場合にはwbgapiを予めインストールする必要がある。wbpyでも同様にAPIを通じてデータを取得することができる。国際通貨基金のデータベースからマクロ金融データを取得する場合はimfpyをインストールし、続いて同様にライブラリをインポートする。"
      ],
      "metadata": {
        "id": "Y5SQiHCLUaN8"
      }
    },
    {
      "cell_type": "code",
      "source": [
        "pip install wbgapi"
      ],
      "metadata": {
        "id": "FLiTCpgoU5Fe",
        "collapsed": true
      },
      "execution_count": null,
      "outputs": []
    },
    {
      "cell_type": "markdown",
      "source": [
        "2.　ライブラリの読み込み\n",
        "\n",
        "　前述の通り、続いてwbdataのライブラリをインポートする。これによりpandas_datareaderを用いてデータを取得することができる。本例では標本期間を指定するためのdatatimeと図表作成のためのmatplotlibも併せてインポートする。"
      ],
      "metadata": {
        "id": "R9_82_u6VBub"
      }
    },
    {
      "cell_type": "code",
      "source": [
        "import wbgapi as wb #世界銀行データ取得のためのライブラリ\n",
        "import pandas_datareader as data #データ取得ライブラリ\n",
        "import pandas as pd #データセット管理のためのライブラリ\n",
        "import matplotlib.pyplot as plt #図表作成のためのライブラリ"
      ],
      "metadata": {
        "id": "zUz33kYFVEau"
      },
      "execution_count": 18,
      "outputs": []
    },
    {
      "cell_type": "markdown",
      "source": [
        "3.　国コードの検索方法\n",
        "\n",
        "　日本は'JPN'、米国は'USA'など、先進主要国はわかりやすいが、アルゼンチンやオーストリアなど、日本人には直観的に国コードを想起できない国も多い。このような場合には、該当する国・地域名を入力することで国コードの検索が可能となる。"
      ],
      "metadata": {
        "id": "sAa647muVjPC"
      }
    },
    {
      "cell_type": "code",
      "source": [
        "display(wb.economy.info())"
      ],
      "metadata": {
        "id": "Yv76oF0sV-sX",
        "collapsed": true
      },
      "execution_count": null,
      "outputs": []
    },
    {
      "cell_type": "markdown",
      "source": [
        "4.　経済金融データのティッカーコードの検索\n",
        "\n",
        "　マクロ経済データや金融データのティッカーコードも、下記の手順で検索することができる。該当する英語の一部を入力すれば、複数の候補が検索される。これらは（本例であれば）世界銀行のホームページ\n",
        "\n",
        "https://data.worldbank.org/indicator\n",
        "\n",
        "でデータの内容、標本期間を確認することができるため、この中から自分が使用したいデータを候補の中から選択すればよい。"
      ],
      "metadata": {
        "id": "TLbQlu1UWFUi"
      }
    },
    {
      "cell_type": "code",
      "source": [
        "display(wb.series.info(q='current account'))"
      ],
      "metadata": {
        "id": "jEVQrcEHW-Zc"
      },
      "execution_count": null,
      "outputs": []
    },
    {
      "cell_type": "markdown",
      "source": [
        "5.　データの取得と可視化"
      ],
      "metadata": {
        "id": "wHShqz4QXJCS"
      }
    },
    {
      "cell_type": "code",
      "source": [
        "countries = [\"USA\"]\n",
        "indicators = {'BN.CAB.XOKA.GD.ZS':'IS Balance USA'}\n",
        "df=wb.data.DataFrame(indicators,countries, time=range(1970, 2023), skipBlanks=True, columns='series')"
      ],
      "metadata": {
        "id": "_ZUBuVaJXLfr"
      },
      "execution_count": 21,
      "outputs": []
    },
    {
      "cell_type": "markdown",
      "source": [
        "6.　可視化"
      ],
      "metadata": {
        "id": "QTqMD8RCXQK1"
      }
    },
    {
      "cell_type": "code",
      "source": [
        "df.plot();\n",
        "df.describe()"
      ],
      "metadata": {
        "id": "ztLzOKu4XR8X"
      },
      "execution_count": null,
      "outputs": []
    },
    {
      "cell_type": "markdown",
      "source": [
        "**X.　データの保存と読み込み**\n",
        "\n",
        "１.　データの保存\n",
        "\n",
        "　先に述べたように、pandasはインターフェース上の互換性が高いため、CSVにデータを保存したり、CSVファイルからデータを読み込むことが容易である。それゆえ、APIにより取得したデータを例えばCSVファイル形式として保存する場合には、下記のSource Codeにより保存することができる。"
      ],
      "metadata": {
        "id": "bWEzwKxdQ_yL"
      }
    },
    {
      "cell_type": "code",
      "source": [
        "USDJPY.to_csv('USDJPY.csv') #既存データの保存ファイル名の指定\n",
        "from google.colab import files #保存のためのライブラリのインポート\n",
        "files.download(\"USDJPY.csv\") #確認のためのデータのダウンロード"
      ],
      "metadata": {
        "id": "JeXT-d8lRIqG",
        "colab": {
          "base_uri": "https://localhost:8080/",
          "height": 17
        },
        "outputId": "ab74a149-75d0-45f6-8c20-ad7a4d3b2956"
      },
      "execution_count": 5,
      "outputs": [
        {
          "output_type": "display_data",
          "data": {
            "text/plain": [
              "<IPython.core.display.Javascript object>"
            ],
            "application/javascript": [
              "\n",
              "    async function download(id, filename, size) {\n",
              "      if (!google.colab.kernel.accessAllowed) {\n",
              "        return;\n",
              "      }\n",
              "      const div = document.createElement('div');\n",
              "      const label = document.createElement('label');\n",
              "      label.textContent = `Downloading \"${filename}\": `;\n",
              "      div.appendChild(label);\n",
              "      const progress = document.createElement('progress');\n",
              "      progress.max = size;\n",
              "      div.appendChild(progress);\n",
              "      document.body.appendChild(div);\n",
              "\n",
              "      const buffers = [];\n",
              "      let downloaded = 0;\n",
              "\n",
              "      const channel = await google.colab.kernel.comms.open(id);\n",
              "      // Send a message to notify the kernel that we're ready.\n",
              "      channel.send({})\n",
              "\n",
              "      for await (const message of channel.messages) {\n",
              "        // Send a message to notify the kernel that we're ready.\n",
              "        channel.send({})\n",
              "        if (message.buffers) {\n",
              "          for (const buffer of message.buffers) {\n",
              "            buffers.push(buffer);\n",
              "            downloaded += buffer.byteLength;\n",
              "            progress.value = downloaded;\n",
              "          }\n",
              "        }\n",
              "      }\n",
              "      const blob = new Blob(buffers, {type: 'application/binary'});\n",
              "      const a = document.createElement('a');\n",
              "      a.href = window.URL.createObjectURL(blob);\n",
              "      a.download = filename;\n",
              "      div.appendChild(a);\n",
              "      a.click();\n",
              "      div.remove();\n",
              "    }\n",
              "  "
            ]
          },
          "metadata": {}
        },
        {
          "output_type": "display_data",
          "data": {
            "text/plain": [
              "<IPython.core.display.Javascript object>"
            ],
            "application/javascript": [
              "download(\"download_751c588b-e03b-4962-90a4-827cdf8c3c3e\", \"USDJPY.csv\", 236307)"
            ]
          },
          "metadata": {}
        }
      ]
    },
    {
      "cell_type": "markdown",
      "source": [
        "2.　データの読み込み\n",
        "\n",
        "　データの読込みは保存に比べて、もうひとつのライブラリioを追加する必要がある。その上で書式を指定することで、この例ではCSVファイルを読み込み、その概要を表示している。"
      ],
      "metadata": {
        "id": "3erxgndaT-4O"
      }
    },
    {
      "cell_type": "code",
      "source": [
        "import csv #データ読込みのためのライブラリのインポート\n",
        "from google.colab import files\n",
        "uploaded = files.upload() #データアップロードの指示\n",
        "import io #データ形式指定のライブラリのインポート\n",
        "df = pd.read_csv(io.BytesIO(uploaded['USDJPY.csv'])) #データ読込みの指示\n",
        "df.head() #データ概要の表示"
      ],
      "metadata": {
        "id": "vjz5UWCjUBts"
      },
      "execution_count": null,
      "outputs": []
    }
  ]
}